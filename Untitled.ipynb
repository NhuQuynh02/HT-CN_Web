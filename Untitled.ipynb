{
 "cells": [
  {
   "cell_type": "code",
   "execution_count": 1,
   "id": "56901c6c",
   "metadata": {},
   "outputs": [
    {
     "name": "stdout",
     "output_type": "stream",
     "text": [
      "Collecting kafka-python\n",
      "  Downloading kafka_python-2.0.2-py2.py3-none-any.whl (246 kB)\n",
      "     -------------------------------------- 246.5/246.5 kB 2.2 MB/s eta 0:00:00\n",
      "Installing collected packages: kafka-python\n",
      "Successfully installed kafka-python-2.0.2\n",
      "Note: you may need to restart the kernel to use updated packages.\n"
     ]
    }
   ],
   "source": [
    "pip install kafka-python"
   ]
  },
  {
   "cell_type": "code",
   "execution_count": 2,
   "id": "809ed3f0",
   "metadata": {},
   "outputs": [
    {
     "ename": "ModuleNotFoundError",
     "evalue": "No module named 'rospy'",
     "output_type": "error",
     "traceback": [
      "\u001b[1;31m---------------------------------------------------------------------------\u001b[0m",
      "\u001b[1;31mModuleNotFoundError\u001b[0m                       Traceback (most recent call last)",
      "\u001b[1;32m~\\AppData\\Local\\Temp\\ipykernel_27480\\1398806506.py\u001b[0m in \u001b[0;36m<module>\u001b[1;34m\u001b[0m\n\u001b[0;32m      3\u001b[0m \u001b[1;32mfrom\u001b[0m \u001b[0mmath\u001b[0m \u001b[1;32mimport\u001b[0m \u001b[0msin\u001b[0m\u001b[1;33m,\u001b[0m \u001b[0mcos\u001b[0m\u001b[1;33m,\u001b[0m \u001b[0mpi\u001b[0m\u001b[1;33m\u001b[0m\u001b[1;33m\u001b[0m\u001b[0m\n\u001b[0;32m      4\u001b[0m \u001b[1;33m\u001b[0m\u001b[0m\n\u001b[1;32m----> 5\u001b[1;33m \u001b[1;32mimport\u001b[0m \u001b[0mrospy\u001b[0m\u001b[1;33m\u001b[0m\u001b[1;33m\u001b[0m\u001b[0m\n\u001b[0m\u001b[0;32m      6\u001b[0m \u001b[1;32mimport\u001b[0m \u001b[0mtf\u001b[0m\u001b[1;33m\u001b[0m\u001b[1;33m\u001b[0m\u001b[0m\n\u001b[0;32m      7\u001b[0m \u001b[1;32mfrom\u001b[0m \u001b[0mnav_msgs\u001b[0m\u001b[1;33m.\u001b[0m\u001b[0mmsg\u001b[0m \u001b[1;32mimport\u001b[0m \u001b[0mOdometry\u001b[0m\u001b[1;33m\u001b[0m\u001b[1;33m\u001b[0m\u001b[0m\n",
      "\u001b[1;31mModuleNotFoundError\u001b[0m: No module named 'rospy'"
     ]
    }
   ],
   "source": [
    "#!/usr/bin/env python3\n",
    "import math\n",
    "from math import sin, cos, pi\n",
    "\n",
    "import rospy\n",
    "import tf\n",
    "from nav_msgs.msg import Odometry\n",
    "from geometry_msgs.msg import Point, Pose, Quaternion, Twist, Vector3\n",
    "\n",
    "rospy.init_node('odometry_publisher')\n",
    "\n",
    "odom_pub = rospy.Publisher(\"odom\", Odometry, queue_size=50)\n",
    "odom_broadcaster = tf.TransformBroadcaster()\n",
    "\n",
    "x = 0.0\n",
    "y = 0.0\n",
    "th = 0.0\n",
    "\n",
    "vx = 0.1\n",
    "vy = -0.1\n",
    "vth = 0.1\n",
    "\n",
    "current_time = rospy.Time.now()\n",
    "last_time = rospy.Time.now()\n",
    "\n",
    "r = rospy.Rate(1.0)\n",
    "while not rospy.is_shutdown():\n",
    "    current_time = rospy.Time.now()\n",
    "\n",
    "    # compute odometry in a typical way given the velocities of the robot\n",
    "    dt = (current_time - last_time).to_sec()\n",
    "    delta_x = (vx * cos(th) - vy * sin(th)) * dt\n",
    "    delta_y = (vx * sin(th) + vy * cos(th)) * dt\n",
    "    delta_th = vth * dt\n",
    "\n",
    "    x += delta_x\n",
    "    y += delta_y\n",
    "    th += delta_th\n",
    "\n",
    "    # since all odometry is 6DOF we'll need a quaternion created from yaw\n",
    "    odom_quat = tf.transformations.quaternion_from_euler(0, 0, th)\n",
    "\n",
    "    # first, we'll publish the transform over tf\n",
    "    odom_broadcaster.sendTransform(\n",
    "        (x, y, 0.),\n",
    "        odom_quat,\n",
    "        current_time,\n",
    "        \"base_link\",\n",
    "        \"odom\"\n",
    "    )\n",
    "\n",
    "    # next, we'll publish the odometry message over ROS\n",
    "    odom = Odometry()\n",
    "    odom.header.stamp = current_time\n",
    "    odom.header.frame_id = \"odom\"\n",
    "\n",
    "    # set the position\n",
    "    odom.pose.pose = Pose(Point(x, y, 0.), Quaternion(*odom_quat))\n",
    "\n",
    "    # set the velocity\n",
    "    odom.child_frame_id = \"base_link\"\n",
    "    odom.twist.twist = Twist(Vector3(vx, vy, 0), Vector3(0, 0, vth))\n",
    "\n",
    "    # publish the message\n",
    "    odom_pub.publish(odom)\n",
    "\n",
    "    last_time = current_time\n",
    "    r.sleep()"
   ]
  },
  {
   "cell_type": "code",
   "execution_count": null,
   "id": "6d2492b7",
   "metadata": {},
   "outputs": [],
   "source": []
  }
 ],
 "metadata": {
  "kernelspec": {
   "display_name": "Python 3 (ipykernel)",
   "language": "python",
   "name": "python3"
  },
  "language_info": {
   "codemirror_mode": {
    "name": "ipython",
    "version": 3
   },
   "file_extension": ".py",
   "mimetype": "text/x-python",
   "name": "python",
   "nbconvert_exporter": "python",
   "pygments_lexer": "ipython3",
   "version": "3.9.13"
  }
 },
 "nbformat": 4,
 "nbformat_minor": 5
}
